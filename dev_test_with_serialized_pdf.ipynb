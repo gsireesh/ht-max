{
 "cells": [
  {
   "cell_type": "code",
   "execution_count": 1,
   "id": "a0f08993-2e7d-47f5-a5a5-403baec24d3e",
   "metadata": {
    "ExecuteTime": {
     "end_time": "2024-09-19T20:54:36.132490Z",
     "start_time": "2024-09-19T20:54:36.116977Z"
    }
   },
   "outputs": [],
   "source": [
    "%load_ext autoreload\n",
    "%autoreload 2"
   ]
  },
  {
   "cell_type": "code",
   "execution_count": 2,
   "id": "initial_id",
   "metadata": {
    "ExecuteTime": {
     "end_time": "2024-09-19T20:54:39.728982Z",
     "start_time": "2024-09-19T20:54:36.134001Z"
    }
   },
   "outputs": [
    {
     "name": "stderr",
     "output_type": "stream",
     "text": [
      "/home/svarna/miniconda3/envs/htmax/lib/python3.10/site-packages/tqdm/auto.py:21: TqdmWarning: IProgress not found. Please update jupyter and ipywidgets. See https://ipywidgets.readthedocs.io/en/stable/user_install.html\n",
      "  from .autonotebook import tqdm as notebook_tqdm\n"
     ]
    }
   ],
   "source": [
    "import json\n",
    "\n",
    "from matplotlib import pyplot as plt\n",
    "from papermage import Document, Span, Box, Entity\n",
    "from papermage.visualizers.visualizer import plot_entities_on_page\n",
    "\n",
    "from papermage_components.table_transformer_structure_predictor import TableTransformerStructurePredictor, TatrPrediction\n",
    "from papermage_components.matIE_predictor import MatIEPredictor\n",
    "from papermage_components.utils import get_table_image, globalize_box_coordinates, visualize_table_with_boxes"
   ]
  },
  {
   "cell_type": "code",
   "execution_count": 3,
   "id": "1a5b95c2555efe0e",
   "metadata": {
    "ExecuteTime": {
     "end_time": "2024-09-19T20:54:40.404245Z",
     "start_time": "2024-09-19T20:54:39.729786Z"
    },
    "collapsed": false,
    "jupyter": {
     "outputs_hidden": false
    }
   },
   "outputs": [],
   "source": [
    "json_filename = \"data/On the creep performance of the Ti‐6Al‐4V alloy processed by additive manufacturing.json\"\n",
    "\n",
    "with open(json_filename) as f:\n",
    "  parsed_paper = Document.from_json(json.load(f))"
   ]
  },
  {
   "cell_type": "code",
   "execution_count": 4,
   "id": "2ee5e926484414f7",
   "metadata": {
    "ExecuteTime": {
     "end_time": "2024-09-19T20:54:40.439671Z",
     "start_time": "2024-09-19T20:54:40.405751Z"
    },
    "collapsed": false,
    "jupyter": {
     "outputs_hidden": false
    }
   },
   "outputs": [
    {
     "data": {
      "text/plain": [
       "Document with 33 layers: ['symbols', 'images', 'metadata', 'tokens', 'rows', 'pages', 'reading_order_sections', 'words', 'sentences', 'blocks', 'vila_entities', 'titles', 'paragraphs', 'authors', 'abstracts', 'keywords', 'sections', 'lists', 'bibliographies', 'equations', 'algorithms', 'figures', 'tables', 'captions', 'headers', 'footers', 'footnotes', 'TAGGED_IMAGE_MathPix', 'TAGGED_ENTITIES_ChemDataExtractor', 'TAGGED_IMAGE_Table_Transformer', 'TAGGED_ENTITIES_alvaroalon2/biobert_chemical_ner', 'TAGGED_ENTITIES_dslim/bert-base-NER', 'TAGGED_GENERATION_gpt-3.5-turbo-instruct']"
      ]
     },
     "execution_count": 4,
     "metadata": {},
     "output_type": "execute_result"
    }
   ],
   "source": [
    "parsed_paper"
   ]
  },
  {
   "cell_type": "code",
   "execution_count": 5,
   "id": "cf061cdb",
   "metadata": {},
   "outputs": [],
   "source": [
    "tableEntity = parsed_paper.tables[0]"
   ]
  },
  {
   "cell_type": "code",
   "execution_count": 6,
   "id": "a97cfa1343b19b6a",
   "metadata": {
    "ExecuteTime": {
     "end_time": "2024-09-19T20:54:40.976616Z",
     "start_time": "2024-09-19T20:54:40.440518Z"
    }
   },
   "outputs": [
    {
     "name": "stderr",
     "output_type": "stream",
     "text": [
      "/home/svarna/miniconda3/envs/htmax/lib/python3.10/site-packages/huggingface_hub/file_download.py:1132: FutureWarning: `resume_download` is deprecated and will be removed in version 1.0.0. Downloads always resume when possible. If you want to force a new download, use `force_download=True`.\n",
      "  warnings.warn(\n"
     ]
    }
   ],
   "source": [
    "tsp = TableTransformerStructurePredictor.from_model_name()"
   ]
  },
  {
   "cell_type": "code",
   "execution_count": 7,
   "id": "e61d7c57",
   "metadata": {},
   "outputs": [
    {
     "name": "stdout",
     "output_type": "stream",
     "text": [
      "get span by box called\n",
      "get span by box called\n",
      "Annotated Entity:\tID: 2965\tSpans: True\tBoxes: True\tText: α\n",
      "Annotated Entity:\tID: 2966\tSpans: True\tBoxes: True\tText: -\n",
      "Annotated Entity:\tID: 2967\tSpans: True\tBoxes: True\tText: Ti\n",
      "Annotated Entity:\tID: 2980\tSpans: True\tBoxes: True\tText: ±\n",
      "[Span[14409, 14410], Span[14411, 14412], Span[14412, 14414], Span[14443, 14444]]\n",
      "Span[14409, 14444]\n",
      "get span by box called\n",
      "Annotated Entity:\tID: 2968\tSpans: True\tBoxes: True\tText: α\n",
      "Annotated Entity:\tID: 2969\tSpans: True\tBoxes: True\tText: ’\n",
      "Annotated Entity:\tID: 2970\tSpans: True\tBoxes: True\tText: -\n",
      "Annotated Entity:\tID: 2971\tSpans: True\tBoxes: True\tText: Ti\n",
      "Annotated Entity:\tID: 2985\tSpans: True\tBoxes: True\tText: ±\n",
      "Annotated Entity:\tID: 2987\tSpans: True\tBoxes: True\tText: .\n",
      "[Span[14415, 14416], Span[14417, 14418], Span[14419, 14420], Span[14420, 14422], Span[14451, 14452], Span[14455, 14456]]\n",
      "Span[14415, 14456]\n",
      "get span by box called\n",
      "Annotated Entity:\tID: 2972\tSpans: True\tBoxes: True\tText: β\n",
      "Annotated Entity:\tID: 2973\tSpans: True\tBoxes: True\tText: -\n",
      "Annotated Entity:\tID: 2974\tSpans: True\tBoxes: True\tText: Ti\n",
      "[Span[14423, 14424], Span[14425, 14426], Span[14426, 14428]]\n",
      "Span[14423, 14428]\n"
     ]
    },
    {
     "data": {
      "text/plain": [
       "ImagePredictionResult(raw_prediction={}, predicted_dict={'': [], 'α -Ti\\nα ’ -Ti\\nβ -Ti\\nWeight (%)\\n90 ±': [], 'α ’ -Ti\\nβ -Ti\\nWeight (%)\\n90 ± 5\\n5.0 ± 0 .': [], 'β -Ti': []}, predicted_boxes=[Box[0.026561446487903595, 0.15408697426319123, 0.20436373353004456, 0.16063592433929444, 2], Box[0.24706984907388688, 0.15408697426319123, 0.34804416000843047, 0.16063592433929444, 2], Box[0.6117685683071613, 0.15408697426319123, 0.25194559544324874, 0.16063592433929444, 2], Box[0.8733209956437349, 0.15408697426319123, 0.1226144604384899, 0.16063592433929444, 2]], predicted_text=None)"
      ]
     },
     "execution_count": 7,
     "metadata": {},
     "output_type": "execute_result"
    }
   ],
   "source": [
    "tsp.process_entity(tableEntity)"
   ]
  },
  {
   "cell_type": "code",
   "execution_count": 16,
   "id": "67ee4193-5a26-4800-af73-3cc1faf29531",
   "metadata": {
    "ExecuteTime": {
     "end_time": "2024-09-19T20:54:48.100506Z",
     "start_time": "2024-09-19T20:54:40.977504Z"
    }
   },
   "outputs": [
    {
     "name": "stderr",
     "output_type": "stream",
     "text": [
      "  0%|          | 0/8 [00:00<?, ?it/s]"
     ]
    },
    {
     "name": "stderr",
     "output_type": "stream",
     "text": [
      "100%|██████████| 8/8 [00:01<00:00,  5.51it/s]\n"
     ]
    }
   ],
   "source": [
    "tables = tsp.predict(parsed_paper)"
   ]
  },
  {
   "cell_type": "code",
   "execution_count": 17,
   "id": "d2dfe482-30bc-4c3d-ab92-827a33063198",
   "metadata": {
    "ExecuteTime": {
     "end_time": "2024-09-19T20:54:48.139645Z",
     "start_time": "2024-09-19T20:54:48.101951Z"
    }
   },
   "outputs": [
    {
     "data": {
      "text/plain": [
       "dict_keys(['raw_prediction', 'predicted_dict', 'predicted_boxes', 'predicted_caption'])"
      ]
     },
     "execution_count": 17,
     "metadata": {},
     "output_type": "execute_result"
    }
   ],
   "source": [
    "tables[0].metadata.keys()"
   ]
  },
  {
   "cell_type": "code",
   "execution_count": 28,
   "id": "3193b39bb392c5d1",
   "metadata": {
    "ExecuteTime": {
     "end_time": "2024-09-19T20:54:48.174644Z",
     "start_time": "2024-09-19T20:54:48.140822Z"
    }
   },
   "outputs": [
    {
     "data": {
      "image/jpeg": "[encoded data removed]",
      "image/png": "[encoded data removed]",
      "text/plain": [
       "<PIL.Image.Image image mode=RGB size=511x105>"
      ]
     },
     "execution_count": 28,
     "metadata": {},
     "output_type": "execute_result"
    }
   ],
   "source": [
    "scale_factor = 1.0\n",
    "boxes = [[b[0], b[1], b[2], b[3], b[4]] for b in tables[0].metadata[\"predicted_boxes\"]]\n",
    "visualize_table_with_boxes(tables[0], boxes, parsed_paper, False)\n"
   ]
  },
  {
   "cell_type": "code",
   "execution_count": 19,
   "id": "6bb7e48d0890503b",
   "metadata": {
    "ExecuteTime": {
     "end_time": "2024-09-19T21:40:08.603886Z",
     "start_time": "2024-09-19T21:40:08.577684Z"
    }
   },
   "outputs": [],
   "source": [
    "from papermage_components.table_transformer_structure_predictor import *"
   ]
  },
  {
   "cell_type": "code",
   "execution_count": null,
   "id": "87426931",
   "metadata": {},
   "outputs": [],
   "source": []
  },
  {
   "cell_type": "markdown",
   "id": "73667d1fd745828d",
   "metadata": {},
   "source": []
  },
  {
   "cell_type": "code",
   "execution_count": 110,
   "id": "1540e11860103b12",
   "metadata": {
    "ExecuteTime": {
     "end_time": "2024-09-19T21:43:11.516349Z",
     "start_time": "2024-09-19T21:43:09.349162Z"
    }
   },
   "outputs": [],
   "source": [
    "pixel_values = structure_transform(img).unsqueeze(0)\n",
    "with torch.no_grad():\n",
    "    outputs = tsp.model(pixel_values)\n",
    "structure_id2label = tsp.model.config.id2label\n",
    "structure_id2label[len(structure_id2label)] = \"no object\"\n",
    "predictions = format_model_output(outputs, structure_id2label, img.size)\n",
    "header_column_mapping = get_header_column_cell_mapping(predictions)"
   ]
  },
  {
   "cell_type": "code",
   "execution_count": 115,
   "id": "cadb6211696a8eea",
   "metadata": {
    "ExecuteTime": {
     "end_time": "2024-09-19T21:46:05.783583Z",
     "start_time": "2024-09-19T21:46:05.738278Z"
    }
   },
   "outputs": [
    {
     "data": {
      "text/plain": [
       "Box[0.6207017268469, 0.11837282781856055, 0.1471481184090125, 0.043908981335024154, 2]"
      ]
     },
     "execution_count": 115,
     "metadata": {},
     "output_type": "execute_result"
    }
   ],
   "source": [
    "globalize_box_coordinates(predictions[0].bbox, tables[0].boxes[0], parsed_paper)"
   ]
  },
  {
   "cell_type": "code",
   "execution_count": 118,
   "id": "dd27a0732c820e5d",
   "metadata": {
    "ExecuteTime": {
     "end_time": "2024-09-19T21:46:44.351558Z",
     "start_time": "2024-09-19T21:46:44.304167Z"
    }
   },
   "outputs": [
    {
     "data": {
      "image/jpeg": "[encoded data removed]",
      "image/png": "[encoded data removed]",
      "text/plain": [
       "<PIL.Image.Image image mode=RGB size=511x105>"
      ]
     },
     "execution_count": 118,
     "metadata": {},
     "output_type": "execute_result"
    }
   ],
   "source": [
    "visualize_table_with_boxes(tables[0], [globalize_box_coordinates(p.bbox, tables[0].boxes[0], parsed_paper).to_json() for p in predictions][:1], parsed_paper, False)"
   ]
  },
  {
   "cell_type": "code",
   "execution_count": 112,
   "id": "75ec0b0b96ec5de2",
   "metadata": {
    "ExecuteTime": {
     "end_time": "2024-09-19T21:43:13.505115Z",
     "start_time": "2024-09-19T21:43:13.476915Z"
    }
   },
   "outputs": [
    {
     "data": {
      "text/plain": [
       "TatrPrediction(label='table column', score=0.9999663829803467, bbox=Box[0.23791079223155975, 0.13491415977478027, 0.3663622736930847, 0.8255661129951477, -1])"
      ]
     },
     "execution_count": 112,
     "metadata": {},
     "output_type": "execute_result"
    }
   ],
   "source": [
    "predictions[0]"
   ]
  },
  {
   "cell_type": "code",
   "execution_count": 103,
   "id": "8d93be91699a9bda",
   "metadata": {
    "ExecuteTime": {
     "end_time": "2024-09-19T21:41:29.768331Z",
     "start_time": "2024-09-19T21:41:29.736669Z"
    }
   },
   "outputs": [
    {
     "data": {
      "text/plain": [
       "TatrPrediction(label='table column', score=0.9999663829803467, bbox=Box[121.57241821289062, 14.165987014770508, 308.7835388183594, 100.85042572021484, -1])"
      ]
     },
     "execution_count": 103,
     "metadata": {},
     "output_type": "execute_result"
    }
   ],
   "source": [
    "predictions[0]"
   ]
  },
  {
   "cell_type": "code",
   "execution_count": 104,
   "id": "6a4b20f8ae4a52a3",
   "metadata": {
    "ExecuteTime": {
     "end_time": "2024-09-19T21:41:35.508510Z",
     "start_time": "2024-09-19T21:41:35.478158Z"
    }
   },
   "outputs": [
    {
     "data": {
      "text/plain": [
       "(511, 105)"
      ]
     },
     "execution_count": 104,
     "metadata": {},
     "output_type": "execute_result"
    }
   ],
   "source": [
    "img.size"
   ]
  },
  {
   "cell_type": "code",
   "execution_count": 109,
   "id": "5d82de910f4aae01",
   "metadata": {
    "ExecuteTime": {
     "end_time": "2024-09-19T21:42:42.313068Z",
     "start_time": "2024-09-19T21:42:42.275616Z"
    }
   },
   "outputs": [
    {
     "data": {
      "text/plain": [
       "(0.23791079885105798, 0.6027397260273972)"
      ]
     },
     "execution_count": 109,
     "metadata": {},
     "output_type": "execute_result"
    }
   ],
   "source": [
    "predictions[0].bbox.l/511, 308/511"
   ]
  },
  {
   "cell_type": "code",
   "execution_count": 96,
   "id": "93057d13ba6847f4",
   "metadata": {
    "ExecuteTime": {
     "end_time": "2024-09-19T21:40:11.097511Z",
     "start_time": "2024-09-19T21:40:11.066179Z"
    }
   },
   "outputs": [
    {
     "data": {
      "image/jpeg": "[encoded data removed]",
      "image/png": "[encoded data removed]",
      "text/plain": [
       "<PIL.Image.Image image mode=RGB size=511x105>"
      ]
     },
     "execution_count": 96,
     "metadata": {},
     "output_type": "execute_result"
    }
   ],
   "source": [
    "from PIL import ImageDraw\n",
    "\n",
    "cropped_table_visualized = img.copy()\n",
    "draw = ImageDraw.Draw(cropped_table_visualized)\n",
    "\n",
    "for prediction in predictions[:1]:\n",
    "  draw.rectangle(prediction.bbox.to_json()[:4], outline=\"red\")\n",
    "\n",
    "cropped_table_visualized"
   ]
  }
 ],
 "metadata": {
  "kernelspec": {
   "display_name": "Python 3 (ipykernel)",
   "language": "python",
   "name": "python3"
  },
  "language_info": {
   "codemirror_mode": {
    "name": "ipython",
    "version": 3
   },
   "file_extension": ".py",
   "mimetype": "text/x-python",
   "name": "python",
   "nbconvert_exporter": "python",
   "pygments_lexer": "ipython3",
   "version": "3.10.14"
  }
 },
 "nbformat": 4,
 "nbformat_minor": 5
}
